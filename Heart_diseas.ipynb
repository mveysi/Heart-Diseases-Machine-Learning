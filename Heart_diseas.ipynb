{
  "nbformat": 4,
  "nbformat_minor": 0,
  "metadata": {
    "colab": {
      "provenance": []
    },
    "kernelspec": {
      "name": "python3",
      "display_name": "Python 3"
    },
    "language_info": {
      "name": "python"
    }
  },
  "cells": [
    {
      "cell_type": "code",
      "execution_count": 2,
      "metadata": {
        "id": "R6WxIZXcc-SY",
        "colab": {
          "base_uri": "https://localhost:8080/"
        },
        "outputId": "69de5758-716a-4e99-c0a3-58aad279247f"
      },
      "outputs": [
        {
          "output_type": "stream",
          "name": "stderr",
          "text": [
            "/usr/local/lib/python3.10/dist-packages/dask/dataframe/__init__.py:42: FutureWarning: \n",
            "Dask dataframe query planning is disabled because dask-expr is not installed.\n",
            "\n",
            "You can install it with `pip install dask[dataframe]` or `conda install dask`.\n",
            "This will raise in a future version.\n",
            "\n",
            "  warnings.warn(msg, FutureWarning)\n"
          ]
        }
      ],
      "source": [
        "import warnings\n",
        "import numpy as np\n",
        "import pandas as pd\n",
        "import matplotlib.pyplot as plt\n",
        "import seaborn as sns\n",
        "\n",
        "from sklearn.metrics import accuracy_score, roc_auc_score, classification_report\n",
        "from sklearn.preprocessing import StandardScaler, LabelEncoder\n",
        "from sklearn.model_selection import train_test_split, GridSearchCV, cross_validate, cross_val_score, validation_curve\n",
        "\n",
        "from catboost import CatBoostClassifier\n",
        "from lightgbm import LGBMClassifier\n",
        "from xgboost import XGBClassifier\n",
        "\n",
        "from sklearn.ensemble import RandomForestClassifier, GradientBoostingClassifier, AdaBoostClassifier\n",
        "from sklearn.linear_model import LogisticRegression\n",
        "from sklearn.neighbors import KNeighborsClassifier\n",
        "from sklearn.tree import DecisionTreeClassifier\n",
        "\n",
        "warnings.filterwarnings('ignore')\n",
        "pd.set_option('display.max_columns', None)\n",
        "pd.set_option('display.width', 170)\n",
        "pd.set_option('display.max_rows', 20)\n",
        "pd.set_option('display.float_format', lambda x: '%.3f' % x)"
      ]
    },
    {
      "cell_type": "code",
      "source": [
        "df = pd.read_csv(\"/content/heart-disease.csv\")"
      ],
      "metadata": {
        "id": "D4u22riIdYyx"
      },
      "execution_count": 3,
      "outputs": []
    },
    {
      "cell_type": "code",
      "source": [
        "#Veriye genel bakış\n",
        "def check_df(dataframe):\n",
        "  print(\"################### Shape ##################\")\n",
        "  print(dataframe.shape)\n",
        "  print(\"################### Types ##################\")\n",
        "  print(dataframe.info())\n",
        "  print(\"################### Head ##################\")\n",
        "  print(dataframe.head())\n",
        "  print(\"################### Tail ##################\")\n",
        "  print(dataframe.tail())\n",
        "  print(\"################### NA ##################\")\n",
        "  print(dataframe.isnull().sum())\n",
        "  print(\"################### Quantiles ##################\")\n",
        "  print(dataframe.describe([0, 0.25, 0.50, 0.75, 0.99, 1]).T)\n",
        "\n",
        "check_df(df)"
      ],
      "metadata": {
        "colab": {
          "base_uri": "https://localhost:8080/"
        },
        "id": "kaCHUi8OddKK",
        "outputId": "63cf3f21-3ed9-477a-809a-fd42036ec404"
      },
      "execution_count": 4,
      "outputs": [
        {
          "output_type": "stream",
          "name": "stdout",
          "text": [
            "################### Shape ##################\n",
            "(303, 14)\n",
            "################### Types ##################\n",
            "<class 'pandas.core.frame.DataFrame'>\n",
            "RangeIndex: 303 entries, 0 to 302\n",
            "Data columns (total 14 columns):\n",
            " #   Column    Non-Null Count  Dtype  \n",
            "---  ------    --------------  -----  \n",
            " 0   age       303 non-null    int64  \n",
            " 1   sex       303 non-null    int64  \n",
            " 2   cp        303 non-null    int64  \n",
            " 3   trestbps  303 non-null    int64  \n",
            " 4   chol      303 non-null    int64  \n",
            " 5   fbs       303 non-null    int64  \n",
            " 6   restecg   303 non-null    int64  \n",
            " 7   thalach   303 non-null    int64  \n",
            " 8   exang     303 non-null    int64  \n",
            " 9   oldpeak   303 non-null    float64\n",
            " 10  slope     303 non-null    int64  \n",
            " 11  ca        303 non-null    int64  \n",
            " 12  thal      303 non-null    int64  \n",
            " 13  target    303 non-null    int64  \n",
            "dtypes: float64(1), int64(13)\n",
            "memory usage: 33.3 KB\n",
            "None\n",
            "################### Head ##################\n",
            "   age  sex  cp  trestbps  chol  fbs  restecg  thalach  exang  oldpeak  slope  ca  thal  target\n",
            "0   63    1   3       145   233    1        0      150      0    2.300      0   0     1       1\n",
            "1   37    1   2       130   250    0        1      187      0    3.500      0   0     2       1\n",
            "2   41    0   1       130   204    0        0      172      0    1.400      2   0     2       1\n",
            "3   56    1   1       120   236    0        1      178      0    0.800      2   0     2       1\n",
            "4   57    0   0       120   354    0        1      163      1    0.600      2   0     2       1\n",
            "################### Tail ##################\n",
            "     age  sex  cp  trestbps  chol  fbs  restecg  thalach  exang  oldpeak  slope  ca  thal  target\n",
            "298   57    0   0       140   241    0        1      123      1    0.200      1   0     3       0\n",
            "299   45    1   3       110   264    0        1      132      0    1.200      1   0     3       0\n",
            "300   68    1   0       144   193    1        1      141      0    3.400      1   2     3       0\n",
            "301   57    1   0       130   131    0        1      115      1    1.200      1   1     3       0\n",
            "302   57    0   1       130   236    0        0      174      0    0.000      1   1     2       0\n",
            "################### NA ##################\n",
            "age         0\n",
            "sex         0\n",
            "cp          0\n",
            "trestbps    0\n",
            "chol        0\n",
            "fbs         0\n",
            "restecg     0\n",
            "thalach     0\n",
            "exang       0\n",
            "oldpeak     0\n",
            "slope       0\n",
            "ca          0\n",
            "thal        0\n",
            "target      0\n",
            "dtype: int64\n",
            "################### Quantiles ##################\n",
            "           count    mean    std     min      0%     25%     50%     75%     99%    100%     max\n",
            "age      303.000  54.366  9.082  29.000  29.000  47.500  55.000  61.000  71.000  77.000  77.000\n",
            "sex      303.000   0.683  0.466   0.000   0.000   0.000   1.000   1.000   1.000   1.000   1.000\n",
            "cp       303.000   0.967  1.032   0.000   0.000   0.000   1.000   2.000   3.000   3.000   3.000\n",
            "trestbps 303.000 131.624 17.538  94.000  94.000 120.000 130.000 140.000 180.000 200.000 200.000\n",
            "chol     303.000 246.264 51.831 126.000 126.000 211.000 240.000 274.500 406.740 564.000 564.000\n",
            "fbs      303.000   0.149  0.356   0.000   0.000   0.000   0.000   0.000   1.000   1.000   1.000\n",
            "restecg  303.000   0.528  0.526   0.000   0.000   0.000   1.000   1.000   1.980   2.000   2.000\n",
            "thalach  303.000 149.647 22.905  71.000  71.000 133.500 153.000 166.000 191.960 202.000 202.000\n",
            "exang    303.000   0.327  0.470   0.000   0.000   0.000   0.000   1.000   1.000   1.000   1.000\n",
            "oldpeak  303.000   1.040  1.161   0.000   0.000   0.000   0.800   1.600   4.200   6.200   6.200\n",
            "slope    303.000   1.399  0.616   0.000   0.000   1.000   1.000   2.000   2.000   2.000   2.000\n",
            "ca       303.000   0.729  1.023   0.000   0.000   0.000   0.000   1.000   4.000   4.000   4.000\n",
            "thal     303.000   2.314  0.612   0.000   0.000   2.000   2.000   3.000   3.000   3.000   3.000\n",
            "target   303.000   0.545  0.499   0.000   0.000   0.000   1.000   1.000   1.000   1.000   1.000\n"
          ]
        }
      ]
    },
    {
      "cell_type": "markdown",
      "source": [
        "14 değişken ve 303 değerimiz vardır.\n",
        "\n",
        "Değişkenlerin türü oldpeak hariç int64 türündedir.\n",
        "\n",
        "NAN(Boş) değerimiz yoktur.\n",
        "\n",
        "Çeyrekliklerimize bakarak bazı aykırı değerleri görebiliriz. Örn: chol, oldpeak"
      ],
      "metadata": {
        "id": "cfE0Egjul0yb"
      }
    },
    {
      "cell_type": "code",
      "source": [
        "#Değişken türlerini belirliyoruz.\n",
        "def grab_col_names(dataframe, cat_th=10, car_th=20):\n",
        "  cat_cols = [col for col in dataframe.columns if dataframe[col].dtypes == \"O\"]\n",
        "  num_but_cat = [col for col in dataframe.columns if dataframe[col].nunique() < cat_th and\n",
        "                 dataframe[col].dtypes != \"O\"]\n",
        "  cat_but_car = [col for col in dataframe.columns if dataframe[col].nunique() > car_th and\n",
        "                 dataframe[col].dtypes == \"O\"]\n",
        "\n",
        "  cat_cols = cat_cols + num_but_cat\n",
        "  cat_cols = [col for col in cat_cols if col not in cat_but_car]\n",
        "\n",
        "  num_cols = [col for col in dataframe.columns if dataframe[col].dtypes != \"O\" ]\n",
        "  num_cols = [col for col in num_cols if col not in num_but_cat]\n",
        "\n",
        "  print(f\"Observations: {dataframe.shape[0]}\")\n",
        "  print(f\"Variables: {dataframe.shape[1]}\")\n",
        "  print(f'cat_cols: {len(cat_cols)}')\n",
        "  print(f'num_cols: {len(num_cols)}')\n",
        "  print(f'cat_but_car: {len(cat_but_car)}')\n",
        "  print(f'num_but_cat: {len(num_but_cat)}')\n",
        "  return cat_cols, num_cols,num_but_cat\n",
        "\n",
        "cat_cols, num_cols, cat_but_car = grab_col_names(df)"
      ],
      "metadata": {
        "colab": {
          "base_uri": "https://localhost:8080/"
        },
        "id": "jUIwKF3Gdpdl",
        "outputId": "2fef6a96-7ee4-481e-ba02-a8ffe98c1b40"
      },
      "execution_count": 5,
      "outputs": [
        {
          "output_type": "stream",
          "name": "stdout",
          "text": [
            "Observations: 303\n",
            "Variables: 14\n",
            "cat_cols: 9\n",
            "num_cols: 5\n",
            "cat_but_car: 0\n",
            "num_but_cat: 9\n"
          ]
        }
      ]
    },
    {
      "cell_type": "code",
      "source": [
        "print(cat_cols)\n",
        "print(num_cols)"
      ],
      "metadata": {
        "colab": {
          "base_uri": "https://localhost:8080/"
        },
        "id": "SAM0opRKfIM4",
        "outputId": "324350fc-ad61-429d-b023-18769ee85a44"
      },
      "execution_count": 6,
      "outputs": [
        {
          "output_type": "stream",
          "name": "stdout",
          "text": [
            "['sex', 'cp', 'fbs', 'restecg', 'exang', 'slope', 'ca', 'thal', 'target']\n",
            "['age', 'trestbps', 'chol', 'thalach', 'oldpeak']\n"
          ]
        }
      ]
    },
    {
      "cell_type": "code",
      "source": [
        "#Kategorik değişken analizi\n",
        "def cat_summary(dataframe, col_name, plot=False):\n",
        "  print(pd.DataFrame({col_name: dataframe[col_name].value_counts(),\n",
        "                      \"Ratio\": 100*dataframe[col_name].value_counts() / len(dataframe)}))\n",
        "  print(\"################################################\")\n",
        "  if plot:\n",
        "    sns.countplot(x=dataframe[col_name], data=dataframe)\n",
        "    plt.show(block=True)\n",
        "\n",
        "for col in cat_cols:\n",
        "  cat_summary(df, col, plot=True)"
      ],
      "metadata": {
        "colab": {
          "base_uri": "https://localhost:8080/",
          "height": 1000
        },
        "id": "BhRFhBGEfaaJ",
        "outputId": "6fd81bd1-41bb-40f0-f852-aefe92f96ba5"
      },
      "execution_count": 7,
      "outputs": [
        {
          "output_type": "stream",
          "name": "stdout",
          "text": [
            "     sex  Ratio\n",
            "sex            \n",
            "1    207 68.317\n",
            "0     96 31.683\n",
            "################################################\n"
          ]
        },
        {
          "output_type": "display_data",
          "data": {
            "text/plain": [
              "<Figure size 640x480 with 1 Axes>"
            ],
            "image/png": "[encoded data removed]"
          },
          "metadata": {}
        },
        {
          "output_type": "stream",
          "name": "stdout",
          "text": [
            "     cp  Ratio\n",
            "cp            \n",
            "0   143 47.195\n",
            "2    87 28.713\n",
            "1    50 16.502\n",
            "3    23  7.591\n",
            "################################################\n"
          ]
        },
        {
          "output_type": "display_data",
          "data": {
            "text/plain": [
              "<Figure size 640x480 with 1 Axes>"
            ],
            "image/png": "[encoded data removed]"
          },
          "metadata": {}
        },
        {
          "output_type": "stream",
          "name": "stdout",
          "text": [
            "     fbs  Ratio\n",
            "fbs            \n",
            "0    258 85.149\n",
            "1     45 14.851\n",
            "################################################\n"
          ]
        },
        {
          "output_type": "display_data",
          "data": {
            "text/plain": [
              "<Figure size 640x480 with 1 Axes>"
            ],
            "image/png": "[encoded data removed]"
          },
          "metadata": {}
        },
        {
          "output_type": "stream",
          "name": "stdout",
          "text": [
            "         restecg  Ratio\n",
            "restecg                \n",
            "1            152 50.165\n",
            "0            147 48.515\n",
            "2              4  1.320\n",
            "################################################\n"
          ]
        },
        {
          "output_type": "display_data",
          "data": {
            "text/plain": [
              "<Figure size 640x480 with 1 Axes>"
            ],
            "image/png": "[encoded data removed]"
          },
          "metadata": {}
        },
        {
          "output_type": "stream",
          "name": "stdout",
          "text": [
            "       exang  Ratio\n",
            "exang              \n",
            "0        204 67.327\n",
            "1         99 32.673\n",
            "################################################\n"
          ]
        },
        {
          "output_type": "display_data",
          "data": {
            "text/plain": [
              "<Figure size 640x480 with 1 Axes>"
            ],
            "image/png": "[encoded data removed]"
          },
          "metadata": {}
        },
        {
          "output_type": "stream",
          "name": "stdout",
          "text": [
            "       slope  Ratio\n",
            "slope              \n",
            "2        142 46.865\n",
            "1        140 46.205\n",
            "0         21  6.931\n",
            "################################################\n"
          ]
        },
        {
          "output_type": "display_data",
          "data": {
            "text/plain": [
              "<Figure size 640x480 with 1 Axes>"
            ],
            "image/png": "[encoded data removed]"
          },
          "metadata": {}
        },
        {
          "output_type": "stream",
          "name": "stdout",
          "text": [
            "     ca  Ratio\n",
            "ca            \n",
            "0   175 57.756\n",
            "1    65 21.452\n",
            "2    38 12.541\n",
            "3    20  6.601\n",
            "4     5  1.650\n",
            "################################################\n"
          ]
        },
        {
          "output_type": "display_data",
          "data": {
            "text/plain": [
              "<Figure size 640x480 with 1 Axes>"
            ],
            "image/png": "[encoded data removed]"
          },
          "metadata": {}
        },
        {
          "output_type": "stream",
          "name": "stdout",
          "text": [
            "      thal  Ratio\n",
            "thal             \n",
            "2      166 54.785\n",
            "3      117 38.614\n",
            "1       18  5.941\n",
            "0        2  0.660\n",
            "################################################\n"
          ]
        },
        {
          "output_type": "display_data",
          "data": {
            "text/plain": [
              "<Figure size 640x480 with 1 Axes>"
            ],
            "image/png": "[encoded data removed]"
          },
          "metadata": {}
        },
        {
          "output_type": "stream",
          "name": "stdout",
          "text": [
            "        target  Ratio\n",
            "target               \n",
            "1          165 54.455\n",
            "0          138 45.545\n",
            "################################################\n"
          ]
        },
        {
          "output_type": "display_data",
          "data": {
            "text/plain": [
              "<Figure size 640x480 with 1 Axes>"
            ],
            "image/png": "[encoded data removed]"
          },
          "metadata": {}
        }
      ]
    },
    {
      "cell_type": "code",
      "source": [
        "#Numerik değişken analizi\n",
        "def num_summary(dataframe, numerical_col, plot=False):\n",
        "  quantiles = [0.05, 0.10, 0.20, 0.30, 0.40, 0.50, 0.60, 0.70, 0.80, 0.90, 0.95, 0.99]\n",
        "  print(dataframe[numerical_col].describe(quantiles).T)\n",
        "  if plot:\n",
        "    dataframe[numerical_col].hist(bins=20)\n",
        "    plt.xlabel(numerical_col)\n",
        "    plt.title(numerical_col)\n",
        "    plt.show(block=True)\n",
        "\n",
        "for col in num_cols:\n",
        "  num_summary(df, col, plot=True)"
      ],
      "metadata": {
        "colab": {
          "base_uri": "https://localhost:8080/",
          "height": 1000
        },
        "id": "elK1DuWrfU9L",
        "outputId": "ef6dd9b1-d857-45f4-af67-4eeee2680b96"
      },
      "execution_count": 8,
      "outputs": [
        {
          "output_type": "stream",
          "name": "stdout",
          "text": [
            "count   303.000\n",
            "mean     54.366\n",
            "std       9.082\n",
            "min      29.000\n",
            "5%       39.100\n",
            "10%      42.000\n",
            "20%      45.000\n",
            "30%      50.000\n",
            "40%      53.000\n",
            "50%      55.000\n",
            "60%      58.000\n",
            "70%      59.000\n",
            "80%      62.000\n",
            "90%      66.000\n",
            "95%      68.000\n",
            "99%      71.000\n",
            "max      77.000\n",
            "Name: age, dtype: float64\n"
          ]
        },
        {
          "output_type": "display_data",
          "data": {
            "text/plain": [
              "<Figure size 640x480 with 1 Axes>"
            ],
            "image/png": "[encoded data removed]"
          },
          "metadata": {}
        },
        {
          "output_type": "stream",
          "name": "stdout",
          "text": [
            "count   303.000\n",
            "mean    131.624\n",
            "std      17.538\n",
            "min      94.000\n",
            "5%      108.000\n",
            "10%     110.000\n",
            "20%     120.000\n",
            "30%     120.000\n",
            "40%     126.000\n",
            "50%     130.000\n",
            "60%     134.000\n",
            "70%     140.000\n",
            "80%     144.000\n",
            "90%     152.000\n",
            "95%     160.000\n",
            "99%     180.000\n",
            "max     200.000\n",
            "Name: trestbps, dtype: float64\n"
          ]
        },
        {
          "output_type": "display_data",
          "data": {
            "text/plain": [
              "<Figure size 640x480 with 1 Axes>"
            ],
            "image/png": "[encoded data removed]"
          },
          "metadata": {}
        },
        {
          "output_type": "stream",
          "name": "stdout",
          "text": [
            "count   303.000\n",
            "mean    246.264\n",
            "std      51.831\n",
            "min     126.000\n",
            "5%      175.000\n",
            "10%     188.000\n",
            "20%     204.000\n",
            "30%     217.600\n",
            "40%     230.000\n",
            "50%     240.000\n",
            "60%     254.000\n",
            "70%     268.000\n",
            "80%     285.200\n",
            "90%     308.800\n",
            "95%     326.900\n",
            "99%     406.740\n",
            "max     564.000\n",
            "Name: chol, dtype: float64\n"
          ]
        },
        {
          "output_type": "display_data",
          "data": {
            "text/plain": [
              "<Figure size 640x480 with 1 Axes>"
            ],
            "image/png": "[encoded data removed]"
          },
          "metadata": {}
        },
        {
          "output_type": "stream",
          "name": "stdout",
          "text": [
            "count   303.000\n",
            "mean    149.647\n",
            "std      22.905\n",
            "min      71.000\n",
            "5%      108.100\n",
            "10%     116.000\n",
            "20%     130.000\n",
            "30%     140.600\n",
            "40%     146.000\n",
            "50%     153.000\n",
            "60%     159.000\n",
            "70%     163.000\n",
            "80%     170.000\n",
            "90%     176.600\n",
            "95%     181.900\n",
            "99%     191.960\n",
            "max     202.000\n",
            "Name: thalach, dtype: float64\n"
          ]
        },
        {
          "output_type": "display_data",
          "data": {
            "text/plain": [
              "<Figure size 640x480 with 1 Axes>"
            ],
            "image/png": "[encoded data removed]"
          },
          "metadata": {}
        },
        {
          "output_type": "stream",
          "name": "stdout",
          "text": [
            "count   303.000\n",
            "mean      1.040\n",
            "std       1.161\n",
            "min       0.000\n",
            "5%        0.000\n",
            "10%       0.000\n",
            "20%       0.000\n",
            "30%       0.000\n",
            "40%       0.380\n",
            "50%       0.800\n",
            "60%       1.120\n",
            "70%       1.400\n",
            "80%       1.900\n",
            "90%       2.800\n",
            "95%       3.400\n",
            "99%       4.200\n",
            "max       6.200\n",
            "Name: oldpeak, dtype: float64\n"
          ]
        },
        {
          "output_type": "display_data",
          "data": {
            "text/plain": [
              "<Figure size 640x480 with 1 Axes>"
            ],
            "image/png": "[encoded data removed]"
          },
          "metadata": {}
        }
      ]
    },
    {
      "cell_type": "code",
      "source": [
        "#Hedef değişkenin kategorik değişkenler ile analizi\n",
        "def target_vs_cat(dataframe, target, categorical_col):\n",
        "  print(pd.DataFrame({\"TARGET_MEAN\": dataframe.groupby(categorical_col)[target].mean()}), end=\"\\n\\n\\n\")\n",
        "  print(\"###################################\")\n",
        "\n",
        "for col in cat_cols:\n",
        "  target_vs_cat(df, \"target\", col)"
      ],
      "metadata": {
        "colab": {
          "base_uri": "https://localhost:8080/"
        },
        "id": "cpOpWbp4gLVI",
        "outputId": "ec6d0368-be67-4ba4-8df6-35884c9ac572"
      },
      "execution_count": 9,
      "outputs": [
        {
          "output_type": "stream",
          "name": "stdout",
          "text": [
            "     TARGET_MEAN\n",
            "sex             \n",
            "0          0.750\n",
            "1          0.449\n",
            "\n",
            "\n",
            "###################################\n",
            "    TARGET_MEAN\n",
            "cp             \n",
            "0         0.273\n",
            "1         0.820\n",
            "2         0.793\n",
            "3         0.696\n",
            "\n",
            "\n",
            "###################################\n",
            "     TARGET_MEAN\n",
            "fbs             \n",
            "0          0.550\n",
            "1          0.511\n",
            "\n",
            "\n",
            "###################################\n",
            "         TARGET_MEAN\n",
            "restecg             \n",
            "0              0.463\n",
            "1              0.632\n",
            "2              0.250\n",
            "\n",
            "\n",
            "###################################\n",
            "       TARGET_MEAN\n",
            "exang             \n",
            "0            0.696\n",
            "1            0.232\n",
            "\n",
            "\n",
            "###################################\n",
            "       TARGET_MEAN\n",
            "slope             \n",
            "0            0.429\n",
            "1            0.350\n",
            "2            0.754\n",
            "\n",
            "\n",
            "###################################\n",
            "    TARGET_MEAN\n",
            "ca             \n",
            "0         0.743\n",
            "1         0.323\n",
            "2         0.184\n",
            "3         0.150\n",
            "4         0.800\n",
            "\n",
            "\n",
            "###################################\n",
            "      TARGET_MEAN\n",
            "thal             \n",
            "0           0.500\n",
            "1           0.333\n",
            "2           0.783\n",
            "3           0.239\n",
            "\n",
            "\n",
            "###################################\n",
            "        TARGET_MEAN\n",
            "target             \n",
            "0             0.000\n",
            "1             1.000\n",
            "\n",
            "\n",
            "###################################\n"
          ]
        }
      ]
    },
    {
      "cell_type": "code",
      "source": [
        "#Hedef değişkenin numerik değişkenlere göre analizi.\n",
        "def target_summary_with_num(dataframe, target, numerical_col):\n",
        "    print(dataframe.groupby(target).agg({numerical_col: \"mean\"}), end=\"\\n\\n\\n\")\n",
        "\n",
        "for col in num_cols:\n",
        "    target_summary_with_num(df, \"target\", col)"
      ],
      "metadata": {
        "colab": {
          "base_uri": "https://localhost:8080/"
        },
        "id": "q6wLcnwKfrB6",
        "outputId": "1a347390-2083-4666-9463-513b6b2cce17"
      },
      "execution_count": 10,
      "outputs": [
        {
          "output_type": "stream",
          "name": "stdout",
          "text": [
            "          age\n",
            "target       \n",
            "0      56.601\n",
            "1      52.497\n",
            "\n",
            "\n",
            "        trestbps\n",
            "target          \n",
            "0        134.399\n",
            "1        129.303\n",
            "\n",
            "\n",
            "          chol\n",
            "target        \n",
            "0      251.087\n",
            "1      242.230\n",
            "\n",
            "\n",
            "        thalach\n",
            "target         \n",
            "0       139.101\n",
            "1       158.467\n",
            "\n",
            "\n",
            "        oldpeak\n",
            "target         \n",
            "0         1.586\n",
            "1         0.583\n",
            "\n",
            "\n"
          ]
        }
      ]
    },
    {
      "cell_type": "code",
      "source": [
        "#Korelasyon analizi\n",
        "corr = df[num_cols].corr()\n",
        "\n",
        "sns.set(rc={'figure.figsize': (10,10)})\n",
        "sns.heatmap(corr, cmap=\"RdBu\", annot=True)\n",
        "plt.show()"
      ],
      "metadata": {
        "colab": {
          "base_uri": "https://localhost:8080/",
          "height": 841
        },
        "id": "NQ0OfiDhgX_E",
        "outputId": "502654dc-3ff5-441e-e4c0-6c449eef901a"
      },
      "execution_count": 11,
      "outputs": [
        {
          "output_type": "display_data",
          "data": {
            "text/plain": [
              "<Figure size 1000x1000 with 2 Axes>"
            ],
            "image/png": "[encoded data removed]"
          },
          "metadata": {}
        }
      ]
    },
    {
      "cell_type": "code",
      "source": [
        "#Aykırı değer analizi\n",
        "def outlier_thresholds(dataframe, col_name, q1=0.25, q3=0.75):\n",
        "  quartile1 = dataframe[col_name].quantile(q1)\n",
        "  quartile3 = dataframe[col_name].quantile(q3)\n",
        "  interquantile_range = quartile3 - quartile1\n",
        "  up_limit = quartile3 + 1.5*interquantile_range\n",
        "  low_limit = quartile1 - 1.5*interquantile_range\n",
        "  return low_limit, up_limit\n",
        "\n",
        "def check_outlier(dataframe, col_name):\n",
        "  low_limit, up_limit = outlier_thresholds(dataframe, col_name)\n",
        "  if dataframe[(dataframe[col_name] > up_limit) | (dataframe[col_name] < low_limit)].any(axis=None):\n",
        "    return True\n",
        "  else:\n",
        "    return False\n",
        "\n",
        "for col in num_cols:\n",
        "    print(col, check_outlier(df, col))"
      ],
      "metadata": {
        "colab": {
          "base_uri": "https://localhost:8080/"
        },
        "id": "cbE4Ld5kghG2",
        "outputId": "425724a4-9ac9-471a-f82c-d360d5eacb3c"
      },
      "execution_count": 12,
      "outputs": [
        {
          "output_type": "stream",
          "name": "stdout",
          "text": [
            "age False\n",
            "trestbps True\n",
            "chol True\n",
            "thalach True\n",
            "oldpeak True\n"
          ]
        }
      ]
    },
    {
      "cell_type": "code",
      "source": [
        "#Aykırı değerleri baskılıyoruz.\n",
        "def replace_with_thresholds(dataframe, variable):\n",
        "    low_limit, up_limit = outlier_thresholds(dataframe, variable)\n",
        "    dataframe.loc[(dataframe[variable] < low_limit), variable] = low_limit\n",
        "    dataframe.loc[(dataframe[variable] > up_limit), variable] = up_limit\n",
        "\n",
        "for col in num_cols:\n",
        "    replace_with_thresholds(df, col)\n",
        "\n",
        "for col in num_cols:\n",
        "    print(col, check_outlier(df, col))"
      ],
      "metadata": {
        "colab": {
          "base_uri": "https://localhost:8080/"
        },
        "id": "OzHO1y8wgq7d",
        "outputId": "133b7fcf-c29b-4ddb-aff9-23e433c86e9d"
      },
      "execution_count": 13,
      "outputs": [
        {
          "output_type": "stream",
          "name": "stdout",
          "text": [
            "age False\n",
            "trestbps False\n",
            "chol False\n",
            "thalach False\n",
            "oldpeak False\n"
          ]
        }
      ]
    },
    {
      "cell_type": "code",
      "source": [
        "cat_cols = [col for col in cat_cols if col not in [\"target\"]]\n",
        "\n",
        "def one_hot_encoder(dataframe, categorical_cols, drop_first=False):\n",
        "    dataframe = pd.get_dummies(dataframe, columns=categorical_cols, drop_first=drop_first)\n",
        "    return dataframe\n",
        "\n",
        "df = one_hot_encoder(df, cat_cols, drop_first=True)"
      ],
      "metadata": {
        "id": "9qsXd74hhpSm"
      },
      "execution_count": 14,
      "outputs": []
    },
    {
      "cell_type": "code",
      "source": [
        "#Veri setindeki değerleri modelimizin okuyabiliceği şekile getiriyoruz.\n",
        "scaler = StandardScaler()\n",
        "df[num_cols] = scaler.fit_transform(df[num_cols])\n",
        "df.head(10)"
      ],
      "metadata": {
        "colab": {
          "base_uri": "https://localhost:8080/",
          "height": 383
        },
        "id": "jtzx9gwGh-3M",
        "outputId": "afe732c3-b1a2-46be-8e9e-cf3cb55f8a73"
      },
      "execution_count": 15,
      "outputs": [
        {
          "output_type": "execute_result",
          "data": {
            "text/plain": [
              "     age  trestbps   chol  thalach  oldpeak  target  sex_1   cp_1   cp_2   cp_3  fbs_1  restecg_1  restecg_2  exang_1  slope_1  slope_2   ca_1   ca_2   ca_3   ca_4  \\\n",
              "0  0.952     0.829 -0.256    0.014    1.151       1   True  False  False   True   True      False      False    False    False    False  False  False  False  False   \n",
              "1 -1.915    -0.077  0.102    1.642    2.234       1   True  False   True  False  False       True      False    False    False    False  False  False  False  False   \n",
              "2 -1.474    -0.077 -0.866    0.982    0.339       1  False   True  False  False  False      False      False    False    False     True  False  False  False  False   \n",
              "3  0.180    -0.681 -0.192    1.246   -0.202       1   True   True  False  False  False       True      False    False    False     True  False  False  False  False   \n",
              "4  0.290    -0.681  2.293    0.586   -0.383       1  False  False  False  False  False       True      False     True    False     True  False  False  False  False   \n",
              "5  0.290     0.527 -1.119   -0.074   -0.563       1   True  False  False  False  False       True      False    False     True    False  False  False  False  False   \n",
              "6  0.180     0.527  1.029    0.146    0.249       1  False   True  False  False  False      False      False    False     True    False  False  False  False  False   \n",
              "7 -1.143    -0.681  0.376    1.026   -0.924       1   True   True  False  False  False       True      False    False    False     True  False  False  False  False   \n",
              "8 -0.261     2.339 -0.972    0.542   -0.473       1   True  False   True  False   True       True      False    False    False     True  False  False  False  False   \n",
              "9  0.290     1.131 -1.625    1.070    0.519       1   True  False   True  False  False       True      False    False    False     True  False  False  False  False   \n",
              "\n",
              "   thal_1  thal_2  thal_3  \n",
              "0    True   False   False  \n",
              "1   False    True   False  \n",
              "2   False    True   False  \n",
              "3   False    True   False  \n",
              "4   False    True   False  \n",
              "5    True   False   False  \n",
              "6   False    True   False  \n",
              "7   False   False    True  \n",
              "8   False   False    True  \n",
              "9   False    True   False  "
            ],
            "text/html": [
              "\n",
              "  <div id=\"df-482df640-c14f-491d-b8a0-aaa3b9f134e7\" class=\"colab-df-container\">\n",
              "    <div>\n",
              "<style scoped>\n",
              "    .dataframe tbody tr th:only-of-type {\n",
              "        vertical-align: middle;\n",
              "    }\n",
              "\n",
              "    .dataframe tbody tr th {\n",
              "        vertical-align: top;\n",
              "    }\n",
              "\n",
              "    .dataframe thead th {\n",
              "        text-align: right;\n",
              "    }\n",
              "</style>\n",
              "<table border=\"1\" class=\"dataframe\">\n",
              "  <thead>\n",
              "    <tr style=\"text-align: right;\">\n",
              "      <th></th>\n",
              "      <th>age</th>\n",
              "      <th>trestbps</th>\n",
              "      <th>chol</th>\n",
              "      <th>thalach</th>\n",
              "      <th>oldpeak</th>\n",
              "      <th>target</th>\n",
              "      <th>sex_1</th>\n",
              "      <th>cp_1</th>\n",
              "      <th>cp_2</th>\n",
              "      <th>cp_3</th>\n",
              "      <th>fbs_1</th>\n",
              "      <th>restecg_1</th>\n",
              "      <th>restecg_2</th>\n",
              "      <th>exang_1</th>\n",
              "      <th>slope_1</th>\n",
              "      <th>slope_2</th>\n",
              "      <th>ca_1</th>\n",
              "      <th>ca_2</th>\n",
              "      <th>ca_3</th>\n",
              "      <th>ca_4</th>\n",
              "      <th>thal_1</th>\n",
              "      <th>thal_2</th>\n",
              "      <th>thal_3</th>\n",
              "    </tr>\n",
              "  </thead>\n",
              "  <tbody>\n",
              "    <tr>\n",
              "      <th>0</th>\n",
              "      <td>0.952</td>\n",
              "      <td>0.829</td>\n",
              "      <td>-0.256</td>\n",
              "      <td>0.014</td>\n",
              "      <td>1.151</td>\n",
              "      <td>1</td>\n",
              "      <td>True</td>\n",
              "      <td>False</td>\n",
              "      <td>False</td>\n",
              "      <td>True</td>\n",
              "      <td>True</td>\n",
              "      <td>False</td>\n",
              "      <td>False</td>\n",
              "      <td>False</td>\n",
              "      <td>False</td>\n",
              "      <td>False</td>\n",
              "      <td>False</td>\n",
              "      <td>False</td>\n",
              "      <td>False</td>\n",
              "      <td>False</td>\n",
              "      <td>True</td>\n",
              "      <td>False</td>\n",
              "      <td>False</td>\n",
              "    </tr>\n",
              "    <tr>\n",
              "      <th>1</th>\n",
              "      <td>-1.915</td>\n",
              "      <td>-0.077</td>\n",
              "      <td>0.102</td>\n",
              "      <td>1.642</td>\n",
              "      <td>2.234</td>\n",
              "      <td>1</td>\n",
              "      <td>True</td>\n",
              "      <td>False</td>\n",
              "      <td>True</td>\n",
              "      <td>False</td>\n",
              "      <td>False</td>\n",
              "      <td>True</td>\n",
              "      <td>False</td>\n",
              "      <td>False</td>\n",
              "      <td>False</td>\n",
              "      <td>False</td>\n",
              "      <td>False</td>\n",
              "      <td>False</td>\n",
              "      <td>False</td>\n",
              "      <td>False</td>\n",
              "      <td>False</td>\n",
              "      <td>True</td>\n",
              "      <td>False</td>\n",
              "    </tr>\n",
              "    <tr>\n",
              "      <th>2</th>\n",
              "      <td>-1.474</td>\n",
              "      <td>-0.077</td>\n",
              "      <td>-0.866</td>\n",
              "      <td>0.982</td>\n",
              "      <td>0.339</td>\n",
              "      <td>1</td>\n",
              "      <td>False</td>\n",
              "      <td>True</td>\n",
              "      <td>False</td>\n",
              "      <td>False</td>\n",
              "      <td>False</td>\n",
              "      <td>False</td>\n",
              "      <td>False</td>\n",
              "      <td>False</td>\n",
              "      <td>False</td>\n",
              "      <td>True</td>\n",
              "      <td>False</td>\n",
              "      <td>False</td>\n",
              "      <td>False</td>\n",
              "      <td>False</td>\n",
              "      <td>False</td>\n",
              "      <td>True</td>\n",
              "      <td>False</td>\n",
              "    </tr>\n",
              "    <tr>\n",
              "      <th>3</th>\n",
              "      <td>0.180</td>\n",
              "      <td>-0.681</td>\n",
              "      <td>-0.192</td>\n",
              "      <td>1.246</td>\n",
              "      <td>-0.202</td>\n",
              "      <td>1</td>\n",
              "      <td>True</td>\n",
              "      <td>True</td>\n",
              "      <td>False</td>\n",
              "      <td>False</td>\n",
              "      <td>False</td>\n",
              "      <td>True</td>\n",
              "      <td>False</td>\n",
              "      <td>False</td>\n",
              "      <td>False</td>\n",
              "      <td>True</td>\n",
              "      <td>False</td>\n",
              "      <td>False</td>\n",
              "      <td>False</td>\n",
              "      <td>False</td>\n",
              "      <td>False</td>\n",
              "      <td>True</td>\n",
              "      <td>False</td>\n",
              "    </tr>\n",
              "    <tr>\n",
              "      <th>4</th>\n",
              "      <td>0.290</td>\n",
              "      <td>-0.681</td>\n",
              "      <td>2.293</td>\n",
              "      <td>0.586</td>\n",
              "      <td>-0.383</td>\n",
              "      <td>1</td>\n",
              "      <td>False</td>\n",
              "      <td>False</td>\n",
              "      <td>False</td>\n",
              "      <td>False</td>\n",
              "      <td>False</td>\n",
              "      <td>True</td>\n",
              "      <td>False</td>\n",
              "      <td>True</td>\n",
              "      <td>False</td>\n",
              "      <td>True</td>\n",
              "      <td>False</td>\n",
              "      <td>False</td>\n",
              "      <td>False</td>\n",
              "      <td>False</td>\n",
              "      <td>False</td>\n",
              "      <td>True</td>\n",
              "      <td>False</td>\n",
              "    </tr>\n",
              "    <tr>\n",
              "      <th>5</th>\n",
              "      <td>0.290</td>\n",
              "      <td>0.527</td>\n",
              "      <td>-1.119</td>\n",
              "      <td>-0.074</td>\n",
              "      <td>-0.563</td>\n",
              "      <td>1</td>\n",
              "      <td>True</td>\n",
              "      <td>False</td>\n",
              "      <td>False</td>\n",
              "      <td>False</td>\n",
              "      <td>False</td>\n",
              "      <td>True</td>\n",
              "      <td>False</td>\n",
              "      <td>False</td>\n",
              "      <td>True</td>\n",
              "      <td>False</td>\n",
              "      <td>False</td>\n",
              "      <td>False</td>\n",
              "      <td>False</td>\n",
              "      <td>False</td>\n",
              "      <td>True</td>\n",
              "      <td>False</td>\n",
              "      <td>False</td>\n",
              "    </tr>\n",
              "    <tr>\n",
              "      <th>6</th>\n",
              "      <td>0.180</td>\n",
              "      <td>0.527</td>\n",
              "      <td>1.029</td>\n",
              "      <td>0.146</td>\n",
              "      <td>0.249</td>\n",
              "      <td>1</td>\n",
              "      <td>False</td>\n",
              "      <td>True</td>\n",
              "      <td>False</td>\n",
              "      <td>False</td>\n",
              "      <td>False</td>\n",
              "      <td>False</td>\n",
              "      <td>False</td>\n",
              "      <td>False</td>\n",
              "      <td>True</td>\n",
              "      <td>False</td>\n",
              "      <td>False</td>\n",
              "      <td>False</td>\n",
              "      <td>False</td>\n",
              "      <td>False</td>\n",
              "      <td>False</td>\n",
              "      <td>True</td>\n",
              "      <td>False</td>\n",
              "    </tr>\n",
              "    <tr>\n",
              "      <th>7</th>\n",
              "      <td>-1.143</td>\n",
              "      <td>-0.681</td>\n",
              "      <td>0.376</td>\n",
              "      <td>1.026</td>\n",
              "      <td>-0.924</td>\n",
              "      <td>1</td>\n",
              "      <td>True</td>\n",
              "      <td>True</td>\n",
              "      <td>False</td>\n",
              "      <td>False</td>\n",
              "      <td>False</td>\n",
              "      <td>True</td>\n",
              "      <td>False</td>\n",
              "      <td>False</td>\n",
              "      <td>False</td>\n",
              "      <td>True</td>\n",
              "      <td>False</td>\n",
              "      <td>False</td>\n",
              "      <td>False</td>\n",
              "      <td>False</td>\n",
              "      <td>False</td>\n",
              "      <td>False</td>\n",
              "      <td>True</td>\n",
              "    </tr>\n",
              "    <tr>\n",
              "      <th>8</th>\n",
              "      <td>-0.261</td>\n",
              "      <td>2.339</td>\n",
              "      <td>-0.972</td>\n",
              "      <td>0.542</td>\n",
              "      <td>-0.473</td>\n",
              "      <td>1</td>\n",
              "      <td>True</td>\n",
              "      <td>False</td>\n",
              "      <td>True</td>\n",
              "      <td>False</td>\n",
              "      <td>True</td>\n",
              "      <td>True</td>\n",
              "      <td>False</td>\n",
              "      <td>False</td>\n",
              "      <td>False</td>\n",
              "      <td>True</td>\n",
              "      <td>False</td>\n",
              "      <td>False</td>\n",
              "      <td>False</td>\n",
              "      <td>False</td>\n",
              "      <td>False</td>\n",
              "      <td>False</td>\n",
              "      <td>True</td>\n",
              "    </tr>\n",
              "    <tr>\n",
              "      <th>9</th>\n",
              "      <td>0.290</td>\n",
              "      <td>1.131</td>\n",
              "      <td>-1.625</td>\n",
              "      <td>1.070</td>\n",
              "      <td>0.519</td>\n",
              "      <td>1</td>\n",
              "      <td>True</td>\n",
              "      <td>False</td>\n",
              "      <td>True</td>\n",
              "      <td>False</td>\n",
              "      <td>False</td>\n",
              "      <td>True</td>\n",
              "      <td>False</td>\n",
              "      <td>False</td>\n",
              "      <td>False</td>\n",
              "      <td>True</td>\n",
              "      <td>False</td>\n",
              "      <td>False</td>\n",
              "      <td>False</td>\n",
              "      <td>False</td>\n",
              "      <td>False</td>\n",
              "      <td>True</td>\n",
              "      <td>False</td>\n",
              "    </tr>\n",
              "  </tbody>\n",
              "</table>\n",
              "</div>\n",
              "    <div class=\"colab-df-buttons\">\n",
              "\n",
              "  <div class=\"colab-df-container\">\n",
              "    <button class=\"colab-df-convert\" onclick=\"convertToInteractive('df-482df640-c14f-491d-b8a0-aaa3b9f134e7')\"\n",
              "            title=\"Convert this dataframe to an interactive table.\"\n",
              "            style=\"display:none;\">\n",
              "\n",
              "  <svg xmlns=\"http://www.w3.org/2000/svg\" height=\"24px\" viewBox=\"0 -960 960 960\">\n",
              "    <path d=\"M120-120v-720h720v720H120Zm60-500h600v-160H180v160Zm220 220h160v-160H400v160Zm0 220h160v-160H400v160ZM180-400h160v-160H180v160Zm440 0h160v-160H620v160ZM180-180h160v-160H180v160Zm440 0h160v-160H620v160Z\"/>\n",
              "  </svg>\n",
              "    </button>\n",
              "\n",
              "  <style>\n",
              "    .colab-df-container {\n",
              "      display:flex;\n",
              "      gap: 12px;\n",
              "    }\n",
              "\n",
              "    .colab-df-convert {\n",
              "      background-color: #E8F0FE;\n",
              "      border: none;\n",
              "      border-radius: 50%;\n",
              "      cursor: pointer;\n",
              "      display: none;\n",
              "      fill: #1967D2;\n",
              "      height: 32px;\n",
              "      padding: 0 0 0 0;\n",
              "      width: 32px;\n",
              "    }\n",
              "\n",
              "    .colab-df-convert:hover {\n",
              "      background-color: #E2EBFA;\n",
              "      box-shadow: 0px 1px 2px rgba(60, 64, 67, 0.3), 0px 1px 3px 1px rgba(60, 64, 67, 0.15);\n",
              "      fill: #174EA6;\n",
              "    }\n",
              "\n",
              "    .colab-df-buttons div {\n",
              "      margin-bottom: 4px;\n",
              "    }\n",
              "\n",
              "    [theme=dark] .colab-df-convert {\n",
              "      background-color: #3B4455;\n",
              "      fill: #D2E3FC;\n",
              "    }\n",
              "\n",
              "    [theme=dark] .colab-df-convert:hover {\n",
              "      background-color: #434B5C;\n",
              "      box-shadow: 0px 1px 3px 1px rgba(0, 0, 0, 0.15);\n",
              "      filter: drop-shadow(0px 1px 2px rgba(0, 0, 0, 0.3));\n",
              "      fill: #FFFFFF;\n",
              "    }\n",
              "  </style>\n",
              "\n",
              "    <script>\n",
              "      const buttonEl =\n",
              "        document.querySelector('#df-482df640-c14f-491d-b8a0-aaa3b9f134e7 button.colab-df-convert');\n",
              "      buttonEl.style.display =\n",
              "        google.colab.kernel.accessAllowed ? 'block' : 'none';\n",
              "\n",
              "      async function convertToInteractive(key) {\n",
              "        const element = document.querySelector('#df-482df640-c14f-491d-b8a0-aaa3b9f134e7');\n",
              "        const dataTable =\n",
              "          await google.colab.kernel.invokeFunction('convertToInteractive',\n",
              "                                                    [key], {});\n",
              "        if (!dataTable) return;\n",
              "\n",
              "        const docLinkHtml = 'Like what you see? Visit the ' +\n",
              "          '<a target=\"_blank\" href=https://colab.research.google.com/notebooks/data_table.ipynb>data table notebook</a>'\n",
              "          + ' to learn more about interactive tables.';\n",
              "        element.innerHTML = '';\n",
              "        dataTable['output_type'] = 'display_data';\n",
              "        await google.colab.output.renderOutput(dataTable, element);\n",
              "        const docLink = document.createElement('div');\n",
              "        docLink.innerHTML = docLinkHtml;\n",
              "        element.appendChild(docLink);\n",
              "      }\n",
              "    </script>\n",
              "  </div>\n",
              "\n",
              "\n",
              "<div id=\"df-ea1e5901-052f-47bc-9180-3b35a7a1eef5\">\n",
              "  <button class=\"colab-df-quickchart\" onclick=\"quickchart('df-ea1e5901-052f-47bc-9180-3b35a7a1eef5')\"\n",
              "            title=\"Suggest charts\"\n",
              "            style=\"display:none;\">\n",
              "\n",
              "<svg xmlns=\"http://www.w3.org/2000/svg\" height=\"24px\"viewBox=\"0 0 24 24\"\n",
              "     width=\"24px\">\n",
              "    <g>\n",
              "        <path d=\"M19 3H5c-1.1 0-2 .9-2 2v14c0 1.1.9 2 2 2h14c1.1 0 2-.9 2-2V5c0-1.1-.9-2-2-2zM9 17H7v-7h2v7zm4 0h-2V7h2v10zm4 0h-2v-4h2v4z\"/>\n",
              "    </g>\n",
              "</svg>\n",
              "  </button>\n",
              "\n",
              "<style>\n",
              "  .colab-df-quickchart {\n",
              "      --bg-color: #E8F0FE;\n",
              "      --fill-color: #1967D2;\n",
              "      --hover-bg-color: #E2EBFA;\n",
              "      --hover-fill-color: #174EA6;\n",
              "      --disabled-fill-color: #AAA;\n",
              "      --disabled-bg-color: #DDD;\n",
              "  }\n",
              "\n",
              "  [theme=dark] .colab-df-quickchart {\n",
              "      --bg-color: #3B4455;\n",
              "      --fill-color: #D2E3FC;\n",
              "      --hover-bg-color: #434B5C;\n",
              "      --hover-fill-color: #FFFFFF;\n",
              "      --disabled-bg-color: #3B4455;\n",
              "      --disabled-fill-color: #666;\n",
              "  }\n",
              "\n",
              "  .colab-df-quickchart {\n",
              "    background-color: var(--bg-color);\n",
              "    border: none;\n",
              "    border-radius: 50%;\n",
              "    cursor: pointer;\n",
              "    display: none;\n",
              "    fill: var(--fill-color);\n",
              "    height: 32px;\n",
              "    padding: 0;\n",
              "    width: 32px;\n",
              "  }\n",
              "\n",
              "  .colab-df-quickchart:hover {\n",
              "    background-color: var(--hover-bg-color);\n",
              "    box-shadow: 0 1px 2px rgba(60, 64, 67, 0.3), 0 1px 3px 1px rgba(60, 64, 67, 0.15);\n",
              "    fill: var(--button-hover-fill-color);\n",
              "  }\n",
              "\n",
              "  .colab-df-quickchart-complete:disabled,\n",
              "  .colab-df-quickchart-complete:disabled:hover {\n",
              "    background-color: var(--disabled-bg-color);\n",
              "    fill: var(--disabled-fill-color);\n",
              "    box-shadow: none;\n",
              "  }\n",
              "\n",
              "  .colab-df-spinner {\n",
              "    border: 2px solid var(--fill-color);\n",
              "    border-color: transparent;\n",
              "    border-bottom-color: var(--fill-color);\n",
              "    animation:\n",
              "      spin 1s steps(1) infinite;\n",
              "  }\n",
              "\n",
              "  @keyframes spin {\n",
              "    0% {\n",
              "      border-color: transparent;\n",
              "      border-bottom-color: var(--fill-color);\n",
              "      border-left-color: var(--fill-color);\n",
              "    }\n",
              "    20% {\n",
              "      border-color: transparent;\n",
              "      border-left-color: var(--fill-color);\n",
              "      border-top-color: var(--fill-color);\n",
              "    }\n",
              "    30% {\n",
              "      border-color: transparent;\n",
              "      border-left-color: var(--fill-color);\n",
              "      border-top-color: var(--fill-color);\n",
              "      border-right-color: var(--fill-color);\n",
              "    }\n",
              "    40% {\n",
              "      border-color: transparent;\n",
              "      border-right-color: var(--fill-color);\n",
              "      border-top-color: var(--fill-color);\n",
              "    }\n",
              "    60% {\n",
              "      border-color: transparent;\n",
              "      border-right-color: var(--fill-color);\n",
              "    }\n",
              "    80% {\n",
              "      border-color: transparent;\n",
              "      border-right-color: var(--fill-color);\n",
              "      border-bottom-color: var(--fill-color);\n",
              "    }\n",
              "    90% {\n",
              "      border-color: transparent;\n",
              "      border-bottom-color: var(--fill-color);\n",
              "    }\n",
              "  }\n",
              "</style>\n",
              "\n",
              "  <script>\n",
              "    async function quickchart(key) {\n",
              "      const quickchartButtonEl =\n",
              "        document.querySelector('#' + key + ' button');\n",
              "      quickchartButtonEl.disabled = true;  // To prevent multiple clicks.\n",
              "      quickchartButtonEl.classList.add('colab-df-spinner');\n",
              "      try {\n",
              "        const charts = await google.colab.kernel.invokeFunction(\n",
              "            'suggestCharts', [key], {});\n",
              "      } catch (error) {\n",
              "        console.error('Error during call to suggestCharts:', error);\n",
              "      }\n",
              "      quickchartButtonEl.classList.remove('colab-df-spinner');\n",
              "      quickchartButtonEl.classList.add('colab-df-quickchart-complete');\n",
              "    }\n",
              "    (() => {\n",
              "      let quickchartButtonEl =\n",
              "        document.querySelector('#df-ea1e5901-052f-47bc-9180-3b35a7a1eef5 button');\n",
              "      quickchartButtonEl.style.display =\n",
              "        google.colab.kernel.accessAllowed ? 'block' : 'none';\n",
              "    })();\n",
              "  </script>\n",
              "</div>\n",
              "\n",
              "    </div>\n",
              "  </div>\n"
            ],
            "application/vnd.google.colaboratory.intrinsic+json": {
              "type": "dataframe",
              "variable_name": "df"
            }
          },
          "metadata": {},
          "execution_count": 15
        }
      ]
    },
    {
      "cell_type": "code",
      "source": [
        "dff = df.copy()"
      ],
      "metadata": {
        "id": "hac1wmLZiPkG"
      },
      "execution_count": 16,
      "outputs": []
    },
    {
      "cell_type": "code",
      "source": [
        "y = dff[\"target\"]\n",
        "X = dff.drop(\"target\", axis=1)\n",
        "\n",
        "X_train, X_test, y_train, y_test =train_test_split(X, y, test_size=0.20, random_state=156)\n",
        "\n",
        "models = [('LR', LogisticRegression()),\n",
        "          ('KNN', KNeighborsClassifier()),\n",
        "          ('CART', DecisionTreeClassifier()),\n",
        "          ('RF', RandomForestClassifier()),\n",
        "          ('GBM', GradientBoostingClassifier()),\n",
        "          ('Adaboost', AdaBoostClassifier()),\n",
        "          (\"XGBoost\", XGBClassifier(objective='reg:squarederror')),\n",
        "          (\"CatBoost\", CatBoostClassifier(verbose=False))]\n",
        "\n",
        "for name, model in models:\n",
        "        model.fit(X_train, y_train)\n",
        "        y_pred = model.predict(X_test)\n",
        "        accuracy = accuracy_score(y_test, y_pred)\n",
        "        msg = \"%s: (%f)\" % (name, accuracy)\n",
        "        print(msg)"
      ],
      "metadata": {
        "colab": {
          "base_uri": "https://localhost:8080/"
        },
        "id": "sQNhZd2riEbE",
        "outputId": "a9cdc27a-09db-4a2e-d824-eae06719874d"
      },
      "execution_count": 17,
      "outputs": [
        {
          "output_type": "stream",
          "name": "stdout",
          "text": [
            "LR: (0.950820)\n",
            "KNN: (0.885246)\n",
            "CART: (0.770492)\n",
            "RF: (0.885246)\n",
            "GBM: (0.868852)\n",
            "Adaboost: (0.901639)\n",
            "XGBoost: (0.836066)\n",
            "CatBoost: (0.950820)\n"
          ]
        }
      ]
    },
    {
      "cell_type": "code",
      "source": [
        "#Kullanacağımız modeli kuruyoruz\n",
        "y = df[\"target\"]\n",
        "X = df.drop([\"target\"], axis = 1)\n",
        "\n",
        "X_train, X_test, y_train, y_test =train_test_split(X, y, test_size=0.20, random_state=156)\n",
        "\n",
        "LR_model = LogisticRegression(random_state=156).fit(X_train, y_train)\n",
        "y_pred = LR_model.predict(X_test)\n",
        "accuracy_score(y_pred, y_test)"
      ],
      "metadata": {
        "colab": {
          "base_uri": "https://localhost:8080/"
        },
        "id": "tPJsSVu5iN5Q",
        "outputId": "3412453b-bbf2-4bee-cbc8-0e8f377e00b1"
      },
      "execution_count": 18,
      "outputs": [
        {
          "output_type": "execute_result",
          "data": {
            "text/plain": [
              "0.9508196721311475"
            ]
          },
          "metadata": {},
          "execution_count": 18
        }
      ]
    },
    {
      "cell_type": "code",
      "source": [
        "print(classification_report(y_test, y_pred))"
      ],
      "metadata": {
        "colab": {
          "base_uri": "https://localhost:8080/"
        },
        "id": "qVUZRo9Ci9rK",
        "outputId": "17ecfa4f-d169-4402-8d4a-ab9908b68819"
      },
      "execution_count": 19,
      "outputs": [
        {
          "output_type": "stream",
          "name": "stdout",
          "text": [
            "              precision    recall  f1-score   support\n",
            "\n",
            "           0       0.94      0.97      0.95        30\n",
            "           1       0.97      0.94      0.95        31\n",
            "\n",
            "    accuracy                           0.95        61\n",
            "   macro avg       0.95      0.95      0.95        61\n",
            "weighted avg       0.95      0.95      0.95        61\n",
            "\n"
          ]
        }
      ]
    },
    {
      "cell_type": "code",
      "source": [
        "y_pred = LR_model.predict(X)"
      ],
      "metadata": {
        "id": "fStM_vFx1Nop"
      },
      "execution_count": 20,
      "outputs": []
    },
    {
      "cell_type": "code",
      "source": [
        "y_pred[0:10]"
      ],
      "metadata": {
        "colab": {
          "base_uri": "https://localhost:8080/"
        },
        "id": "mh_51VQEtB1-",
        "outputId": "b699f328-a9c0-43d5-a6d5-efcdbd647347"
      },
      "execution_count": 21,
      "outputs": [
        {
          "output_type": "execute_result",
          "data": {
            "text/plain": [
              "array([1, 1, 1, 1, 1, 1, 1, 1, 1, 1])"
            ]
          },
          "metadata": {},
          "execution_count": 21
        }
      ]
    },
    {
      "cell_type": "code",
      "source": [
        "y[0:10]"
      ],
      "metadata": {
        "colab": {
          "base_uri": "https://localhost:8080/",
          "height": 397
        },
        "id": "9KTYJiUZtjRW",
        "outputId": "7e5c4881-d8ca-4ff6-ac09-80743edc7884"
      },
      "execution_count": 22,
      "outputs": [
        {
          "output_type": "execute_result",
          "data": {
            "text/plain": [
              "0    1\n",
              "1    1\n",
              "2    1\n",
              "3    1\n",
              "4    1\n",
              "5    1\n",
              "6    1\n",
              "7    1\n",
              "8    1\n",
              "9    1\n",
              "Name: target, dtype: int64"
            ],
            "text/html": [
              "<div>\n",
              "<style scoped>\n",
              "    .dataframe tbody tr th:only-of-type {\n",
              "        vertical-align: middle;\n",
              "    }\n",
              "\n",
              "    .dataframe tbody tr th {\n",
              "        vertical-align: top;\n",
              "    }\n",
              "\n",
              "    .dataframe thead th {\n",
              "        text-align: right;\n",
              "    }\n",
              "</style>\n",
              "<table border=\"1\" class=\"dataframe\">\n",
              "  <thead>\n",
              "    <tr style=\"text-align: right;\">\n",
              "      <th></th>\n",
              "      <th>target</th>\n",
              "    </tr>\n",
              "  </thead>\n",
              "  <tbody>\n",
              "    <tr>\n",
              "      <th>0</th>\n",
              "      <td>1</td>\n",
              "    </tr>\n",
              "    <tr>\n",
              "      <th>1</th>\n",
              "      <td>1</td>\n",
              "    </tr>\n",
              "    <tr>\n",
              "      <th>2</th>\n",
              "      <td>1</td>\n",
              "    </tr>\n",
              "    <tr>\n",
              "      <th>3</th>\n",
              "      <td>1</td>\n",
              "    </tr>\n",
              "    <tr>\n",
              "      <th>4</th>\n",
              "      <td>1</td>\n",
              "    </tr>\n",
              "    <tr>\n",
              "      <th>5</th>\n",
              "      <td>1</td>\n",
              "    </tr>\n",
              "    <tr>\n",
              "      <th>6</th>\n",
              "      <td>1</td>\n",
              "    </tr>\n",
              "    <tr>\n",
              "      <th>7</th>\n",
              "      <td>1</td>\n",
              "    </tr>\n",
              "    <tr>\n",
              "      <th>8</th>\n",
              "      <td>1</td>\n",
              "    </tr>\n",
              "    <tr>\n",
              "      <th>9</th>\n",
              "      <td>1</td>\n",
              "    </tr>\n",
              "  </tbody>\n",
              "</table>\n",
              "</div><br><label><b>dtype:</b> int64</label>"
            ]
          },
          "metadata": {},
          "execution_count": 22
        }
      ]
    },
    {
      "cell_type": "code",
      "source": [],
      "metadata": {
        "id": "c2O0oiHyueWp"
      },
      "execution_count": null,
      "outputs": []
    }
  ]
}